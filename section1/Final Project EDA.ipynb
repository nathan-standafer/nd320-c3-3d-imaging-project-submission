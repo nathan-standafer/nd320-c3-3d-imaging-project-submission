{
 "cells": [
  {
   "cell_type": "markdown",
   "metadata": {},
   "source": [
    "# Preparing the dataset for hippocampus segmentation\n",
    "\n",
    "In this notebook you will use the skills and methods that we have talked about during our EDA Lesson to prepare the hippocampus dataset using Python. Follow the Notebook, writing snippets of code where directed so using Task comments, similar to the one below, which expects you to put the proper imports in place. Write your code directly in the cell with TASK comment. Feel free to add cells as you see fit, but please make sure that code that performs that tasked activity sits in the same cell as the Task comment.\n"
   ]
  },
  {
   "cell_type": "code",
   "execution_count": 1,
   "metadata": {},
   "outputs": [],
   "source": [
    "# TASK: Import the following libraries that we will use: nibabel, matplotlib, numpy\n",
    "import nibabel as nib\n",
    "import numpy as np\n",
    "import matplotlib.pyplot as plt\n"
   ]
  },
  {
   "cell_type": "markdown",
   "metadata": {},
   "source": [
    "It will help your understanding of the data a lot if you were able to use a tool that allows you to view NIFTI volumes, like [3D Slicer](https://www.slicer.org/). I will refer to Slicer throughout this Notebook and will be pasting some images showing what your output might look like."
   ]
  },
  {
   "cell_type": "markdown",
   "metadata": {},
   "source": [
    "## Loading NIFTI images using NiBabel\n",
    "\n",
    "NiBabel is a python library for working with neuro-imaging formats (including NIFTI) that we have used in some of the exercises throughout the course. Our volumes and labels are in NIFTI format, so we will use nibabel to load and inspect them.\n",
    "\n",
    "NiBabel documentation could be found here: https://nipy.org/nibabel/\n",
    "\n",
    "Our dataset sits in two directories - *images* and *labels*. Each image is represented by a single file (we are fortunate to have our data converted to NIFTI) and has a corresponding label file which is named the same as the image file.\n",
    "\n",
    "Note that our dataset is \"dirty\". There are a few images and labels that are not quite right. They should be quite obvious to notice, though. The dataset contains an equal amount of \"correct\" volumes and corresponding labels, and you don't need to alter values of any samples in order to get the clean dataset."
   ]
  },
  {
   "cell_type": "code",
   "execution_count": 4,
   "metadata": {},
   "outputs": [],
   "source": [
    "# TASK: Your data sits in directory /data/TrainingSet.\n",
    "# Load an image and a segmentation mask into variables called image and label\n",
    "\n",
    "data_image = nib.load('../data/TrainingSet/images/hippocampus_003.nii.gz')\n",
    "data_label = nib.load('../data/TrainingSet/labels/hippocampus_003.nii.gz')\n"
   ]
  },
  {
   "cell_type": "code",
   "execution_count": 5,
   "metadata": {},
   "outputs": [
    {
     "name": "stdout",
     "output_type": "stream",
     "text": [
      "the dimension of the image is: (34, 52, 35)\n",
      "the dimension of the label is: (34, 52, 35)\n"
     ]
    },
    {
     "data": {
      "image/png": "[encoded data removed]",
      "text/plain": [
       "<Figure size 1000x500 with 4 Axes>"
      ]
     },
     "metadata": {},
     "output_type": "display_data"
    }
   ],
   "source": [
    "# Nibabel can present your image data as a Numpy array by calling the method get_fdata()\n",
    "# The array will contain a multi-dimensional Numpy array with numerical values representing voxel intensities. \n",
    "# In our case, images and labels are 3-dimensional, so get_fdata will return a 3-dimensional array. You can verify this\n",
    "# by accessing the .shape attribute. What are the dimensions of the input arrays?\n",
    "\n",
    "# TASK: using matplotlib, visualize a few slices from the dataset, along with their labels. \n",
    "# You can adjust plot sizes like so if you find them too small:\n",
    "# plt.rcParams[\"figure.figsize\"] = (10,10)\n",
    "\n",
    "image_img = data_image.get_fdata()\n",
    "label_img = data_label.get_fdata()\n",
    "\n",
    "print(\"the dimension of the image is: {}\".format(image_img.shape))\n",
    "print(\"the dimension of the label is: {}\".format(label_img.shape))\n",
    "\n",
    "fig, axs = plt.subplots(1, 4, figsize=(10, 5))\n",
    "axs[0].imshow(image_img[16], cmap='gray')\n",
    "axs[1].imshow(label_img[16], cmap='gray');\n",
    "axs[2].imshow(image_img[22], cmap='gray')\n",
    "axs[3].imshow(label_img[22], cmap='gray');\n",
    "plt.tight_layout(pad=0, h_pad=0)\n",
    "plt.show()"
   ]
  },
  {
   "cell_type": "markdown",
   "metadata": {},
   "source": [
    "Load volume into 3D Slicer to validate that your visualization is correct and get a feel for the shape of structures.Try to get a visualization like the one below (hint: while Slicer documentation is not particularly great, there are plenty of YouTube videos available! Just look it up on YouTube if you are not sure how to do something)\n",
    "\n",
    "![3D slicer](img/Slicer.png)"
   ]
  },
  {
   "cell_type": "code",
   "execution_count": 6,
   "metadata": {},
   "outputs": [],
   "source": [
    "# Stand out suggestion: use one of the simple Volume Rendering algorithms that we've\n",
    "# implemented in one of our earlier lessons to visualize some of these volumes"
   ]
  },
  {
   "cell_type": "markdown",
   "metadata": {},
   "source": [
    "## Looking at single image data\n",
    "In this section we will look closer at the NIFTI representation of our volumes. In order to measure the physical volume of hippocampi, we need to understand the relationship between the sizes of our voxels and the physical world."
   ]
  },
  {
   "cell_type": "code",
   "execution_count": 7,
   "metadata": {
    "scrolled": true
   },
   "outputs": [
    {
     "name": "stdout",
     "output_type": "stream",
     "text": [
      "The image format is: <class 'nibabel.nifti1.Nifti1Header'>\n",
      "The label format is: <class 'nibabel.nifti1.Nifti1Header'>\n"
     ]
    }
   ],
   "source": [
    "# Nibabel supports many imaging formats, NIFTI being just one of them. I told you that our images \n",
    "# are in NIFTI, but you should confirm if this is indeed the format that we are dealing with\n",
    "# TASK: using .header_class attribute - what is the format of our images?\n",
    "\n",
    "print(\"The image format is: {}\".format(image.header_class))\n",
    "print(\"The label format is: {}\".format(label.header_class))"
   ]
  },
  {
   "cell_type": "markdown",
   "metadata": {},
   "source": [
    "Further down we will be inspecting .header attribute that provides access to NIFTI metadata. You can use this resource as a reference for various fields: https://brainder.org/2012/09/23/the-nifti-file-format/"
   ]
  },
  {
   "cell_type": "code",
   "execution_count": 8,
   "metadata": {},
   "outputs": [
    {
     "name": "stdout",
     "output_type": "stream",
     "text": [
      "The image format is: 16\n",
      "The label format is: 16\n",
      "The NIFTI documentation says that a value of 16 represents a 32-bit float value\n"
     ]
    }
   ],
   "source": [
    "# TASK: How many bits per pixel are used?\n",
    "\n",
    "print(\"The image format is: {}\".format(image.header['datatype']))\n",
    "print(\"The label format is: {}\".format(label.header['datatype']))\n",
    "\n",
    "print(\"The NIFTI documentation says that a value of 16 represents a 32-bit float value\")"
   ]
  },
  {
   "cell_type": "code",
   "execution_count": 9,
   "metadata": {},
   "outputs": [
    {
     "name": "stdout",
     "output_type": "stream",
     "text": [
      "xyzt_units: 10\n",
      "the xyzt_units value of '10' must translate from binary to base 10 as '2'.  The nifto documentatoin says that 2 is millimeters, so I will go with millimeters\n"
     ]
    }
   ],
   "source": [
    "# TASK: What are the units of measurement?\n",
    "print(\"xyzt_units: {}\".format(image.header['xyzt_units']))\n",
    "\n",
    "#The dimension for each voxel is stored in the field float pixdim[8],\n",
    "#print(\"pixdim: {}\".format(image.header['pixdim']))\n",
    "\n",
    "#Both spatial and temporal measurement units, used for the dimensions dim[1] to dim[4] (and, respectively, for pixdim[]), \n",
    "#are encoded in the field char xyzt_units. The bits 1-3 are used to store the spatial dimensions, the bits 4-6 are for \n",
    "#temporal dimensions, and the bits 6 and 7 are not used.\n",
    "\n",
    "print(\"the xyzt_units value of '10' must translate from binary to base 10 as '2'.  The nifto documentatoin says that 2 is millimeters, so I will go with millimeters\")\n"
   ]
  },
  {
   "cell_type": "code",
   "execution_count": 10,
   "metadata": {},
   "outputs": [
    {
     "name": "stdout",
     "output_type": "stream",
     "text": [
      "pixdim: [1. 1. 1. 1. 1. 0. 0. 0.]\n",
      "bits 1-3 of pixdim are used to store the spatial dimensions, so the dimensions of each voxel are 1mm x 1mm x 1mm\n"
     ]
    }
   ],
   "source": [
    "# TASK: Do we have a regular grid? What are grid spacings?\n",
    "print(\"pixdim: {}\".format(image.header['pixdim']))\n",
    "print(\"bits 1-3 of pixdim are used to store the spatial dimensions, so the dimensions of each voxel are 1mm x 1mm x 1mm\")"
   ]
  },
  {
   "cell_type": "code",
   "execution_count": 11,
   "metadata": {},
   "outputs": [
    {
     "name": "stdout",
     "output_type": "stream",
     "text": [
      "image_img.shape: (34, 52, 35)\n",
      "qform_code: 1\n",
      "The qform code of '1' indicates 'Scanner-based anatomical coordinates. NIFTI files are standardized, so we can assume:\n",
      "  The first dimension is left-right, moving along the sagittal plane\n",
      "  The second dimension is front-back, moving along the coronal plane\n",
      "  The third dimension is up-down, moving along the axial plane\n"
     ]
    }
   ],
   "source": [
    "# TASK: What dimensions represent axial, sagittal, and coronal slices? How do you know?\n",
    "\n",
    "print(\"image_img.shape: {}\".format(image_img.shape))\n",
    "\n",
    "# The documentation says:  The file standard assumes that the voxel coordinates refer to the center of each voxel, rather than \n",
    "# at any of its corners. The world coordinate system is assumed to be ras: +x is Right, +y is Anterior and +z is Superior\n",
    "\n",
    "print(\"qform_code: {}\".format(image.header['qform_code']))\n",
    "print(\"The qform code of '1' indicates 'Scanner-based anatomical coordinates. NIFTI files are standardized, so we can assume:\")\n",
    "print(\"  The first dimension is left-right, moving along the sagittal plane\")\n",
    "print(\"  The second dimension is front-back, moving along the coronal plane\")\n",
    "print(\"  The third dimension is up-down, moving along the axial plane\")\n"
   ]
  },
  {
   "cell_type": "code",
   "execution_count": 12,
   "metadata": {},
   "outputs": [
    {
     "name": "stdout",
     "output_type": "stream",
     "text": [
      "The volume of the hippocampus is: 3353 mm³\n"
     ]
    }
   ],
   "source": [
    "# By now you should have enough information to decide what are dimensions of a single voxel\n",
    "# TASK: Compute the volume (in mm³) of a hippocampus using one of the labels you've loaded. \n",
    "# You should get a number between ~2200 and ~4500\n",
    "\n",
    "print(\"The volume of the hippocampus is: {} mm³\".format(np.count_nonzero(label_img)))\n"
   ]
  },
  {
   "cell_type": "markdown",
   "metadata": {},
   "source": [
    "## Plotting some charts"
   ]
  },
  {
   "cell_type": "code",
   "execution_count": 13,
   "metadata": {},
   "outputs": [
    {
     "name": "stdout",
     "output_type": "stream",
     "text": [
      "Outlier with a volume of 20702: ../data/TrainingSet/labels/hippocampus_281.nii.gz\n",
      "Average hippocampus volume: 3295.8237547892722\n"
     ]
    },
    {
     "data": {
      "image/png": "[encoded data removed]",
      "text/plain": [
       "<Figure size 640x480 with 1 Axes>"
      ]
     },
     "metadata": {},
     "output_type": "display_data"
    }
   ],
   "source": [
    "# TASK: Plot a histogram of all volumes that we have in our dataset and see how \n",
    "# our dataset measures against a slice of a normal population represented by the chart below.\n",
    "import os\n",
    "\n",
    "path = '../data/TrainingSet/labels/'\n",
    "\n",
    "volumes = []\n",
    "\n",
    "for root, dirs, files in os.walk(path):\n",
    "    for file in files:\n",
    "        file_path = os.path.join(root, file)\n",
    "        nifti_image = nib.load(file_path)\n",
    "        img = nifti_image.get_fdata()\n",
    "        volume = np.count_nonzero(img)\n",
    "        if volume < 5000:\n",
    "            volumes.append(volume)       \n",
    "        else:\n",
    "            print(\"Outlier with a volume of {}: {}\".format(volume, file_path))\n",
    "\n",
    "print(\"Average hippocampus volume: {}\".format(np.mean(volumes)))\n",
    "\n",
    "plt.hist(volumes)\n",
    "plt.title('hippocampus volumes')\n",
    "plt.xlabel('volume')\n",
    "plt.ylabel('count')\n",
    "plt.show()"
   ]
  },
  {
   "cell_type": "markdown",
   "metadata": {},
   "source": [
    "<img src=\"img/nomogram_fem_right.svg\" width=400 align=left>"
   ]
  },
  {
   "cell_type": "markdown",
   "metadata": {},
   "source": [
    "Do you see any outliers? Why do you think it's so (might be not immediately obvious, but it's always a good idea to inspect) outliers closer. If you haven't found the images that do not belong, the histogram may help you."
   ]
  },
  {
   "cell_type": "code",
   "execution_count": 14,
   "metadata": {},
   "outputs": [
    {
     "name": "stdout",
     "output_type": "stream",
     "text": [
      "this image does not confirm to the same shape as the others: (512, 512, 94)\n"
     ]
    },
    {
     "data": {
      "image/png": "[encoded data removed]",
      "text/plain": [
       "<Figure size 640x480 with 1 Axes>"
      ]
     },
     "metadata": {},
     "output_type": "display_data"
    }
   ],
   "source": [
    "nifti_image = nib.load(\"../data/TrainingSet/labels/hippocampus_281.nii.gz\")\n",
    "\n",
    "print(\"this image does not confirm to the same shape as the others: {}\".format(nifti_image.get_fdata().shape))\n",
    "\n",
    "plt.imshow(nifti_image.get_fdata()[16], cmap='gray');"
   ]
  },
  {
   "cell_type": "markdown",
   "metadata": {},
   "source": [
    "In the real world we would have precise information about the ages and conditions of our patients, and understanding how our dataset measures against population norm would be the integral part of clinical validation that we talked about in last lesson. Unfortunately, we do not have this information about this dataset, so we can only guess why it measures the way it is. If you would like to explore further, you can use the [calculator from HippoFit project](http://www.smanohar.com/biobank/calculator.html) to see how our dataset compares against different population slices"
   ]
  },
  {
   "cell_type": "markdown",
   "metadata": {},
   "source": [
    "Did you notice anything odd about the label files? We hope you did! The mask seems to have two classes, labeled with values `1` and `2` respectively. If you visualized sagittal or axial views, you might have gotten a good guess of what those are. Class 1 is the anterior segment of the hippocampus and class 2 is the posterior one. \n",
    "\n",
    "For the purpose of volume calculation we do not care about the distinction, however we will still train our network to differentiate between these two classes and the background"
   ]
  },
  {
   "cell_type": "code",
   "execution_count": 15,
   "metadata": {},
   "outputs": [],
   "source": [
    "# TASK: Copy the clean dataset to the output folder inside section1/out. You will use it in the next Section"
   ]
  },
  {
   "cell_type": "markdown",
   "metadata": {},
   "source": [
    "## Final remarks\n",
    "\n",
    "Congratulations! You have finished Section 1. \n",
    "\n",
    "In this section you have inspected a dataset of MRI scans and related segmentations, represented as NIFTI files. We have visualized some slices, and understood the layout of the data. We have inspected file headers to understand what how the image dimensions relate to the physical world and we have understood how to measure our volume. We have then inspected dataset for outliers, and have created a clean set that is ready for consumption by our ML algorithm. \n",
    "\n",
    "In the next section you will create training and testing pipelines for a UNet-based machine learning model, run and monitor the execution, and will produce test metrics. This will arm you with all you need to use the model in the clinical context and reason about its performance!"
   ]
  },
  {
   "cell_type": "code",
   "execution_count": null,
   "metadata": {},
   "outputs": [],
   "source": []
  }
 ],
 "metadata": {
  "kernelspec": {
   "display_name": "medimaging",
   "language": "python",
   "name": "medimaging"
  },
  "language_info": {
   "codemirror_mode": {
    "name": "ipython",
    "version": 3
   },
   "file_extension": ".py",
   "mimetype": "text/x-python",
   "name": "python",
   "nbconvert_exporter": "python",
   "pygments_lexer": "ipython3",
   "version": "3.11.5"
  }
 },
 "nbformat": 4,
 "nbformat_minor": 4
}
